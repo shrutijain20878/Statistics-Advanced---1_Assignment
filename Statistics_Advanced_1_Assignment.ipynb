{
  "nbformat": 4,
  "nbformat_minor": 0,
  "metadata": {
    "colab": {
      "provenance": []
    },
    "kernelspec": {
      "name": "python3",
      "display_name": "Python 3"
    },
    "language_info": {
      "name": "python"
    }
  },
  "cells": [
    {
      "cell_type": "code",
      "execution_count": null,
      "metadata": {
        "id": "4JnHl1PQLiVm"
      },
      "outputs": [],
      "source": []
    },
    {
      "cell_type": "markdown",
      "source": [
        "# Statistics Advanced - 1| Assignment"
      ],
      "metadata": {
        "id": "hvu4mlykL0Ef"
      }
    },
    {
      "cell_type": "markdown",
      "source": [
        "**1: What is a random variable in probability theory?**\n",
        "\n",
        "  A random variable in probability theory is a variable whose possible values are determined by the outcomes of a random experiment. It assigns a numerical value to each outcome in the sample space, turning uncertain events into measurable quantities.\n",
        "\n",
        "  Random variables can be discrete, taking countable values (like the number on a die), or continuous, taking any value within a range (like a person’s height). They are fundamental for calculating probabilities, expectations, and variances in statistics."
      ],
      "metadata": {
        "id": "MxDixxXEL4BG"
      }
    },
    {
      "cell_type": "markdown",
      "source": [
        "**2: What are the types of random variables?**\n",
        "\n",
        "   The two main types of random variables are discrete and continuous.\n",
        "\n",
        "   A discrete random variable takes on a finite or countably infinite set of values, often representing counts or distinct outcomes, such as the number of goals in a football match.\n",
        "\n",
        "   A continuous random variable can take any value within a given interval or range, often representing measurements, such as time, weight, or temperature. The probability of it taking an exact value is zero; instead, probabilities are assigned over intervals."
      ],
      "metadata": {
        "id": "59BEX_tpMYEB"
      }
    },
    {
      "cell_type": "markdown",
      "source": [
        "3: **Explain the difference between discrete and continuous distributions?**\n",
        "\n",
        "  A discrete distribution describes the probabilities of a discrete random variable, which takes specific, countable values. Examples include the binomial distribution (number of successes in fixed trials) and the Poisson distribution (number of events in a time period). The probabilities are given by a probability mass function (PMF), and the sum of all probabilities equals 1.\n",
        "\n",
        "   A continuous distribution describes the probabilities of a continuous random variable, which can take any value within a range. Examples include the normal distribution and exponential distribution. Probabilities are defined over intervals using a probability density function (PDF), and the total area under the curve equals 1."
      ],
      "metadata": {
        "id": "jn_21dZWMp0L"
      }
    },
    {
      "cell_type": "markdown",
      "source": [
        "**4: What is a binomial distribution, and how is it used in probability?**\n",
        "\n",
        "ChatGPT said:\n",
        "A binomial distribution is a discrete probability distribution that models the number of successes in a fixed number of independent trials, where each trial has only two possible outcomes — success or failure — and the probability of success remains constant. It is defined by two parameters:\n",
        "n (number of trials) and\n",
        "p (probability of success in each trial).\n",
        "\n",
        "It is used in probability to calculate the likelihood of getting exactly\n",
        "k successes out of\n",
        "n trials, using the formula:\n",
        "\n",
        "P(X=k)=(n/k)p^k (1−p) ^ (n−k)\n",
        "\n",
        "This is commonly applied in situations like predicting the number of defective products in a batch, the number of heads in coin tosses, or the number of correct answers in a multiple-choice quiz."
      ],
      "metadata": {
        "id": "xOuWZa3NM0l1"
      }
    },
    {
      "cell_type": "markdown",
      "source": [
        "**5: What is the standard normal distribution, and why is it important?**\n",
        "\n",
        " The standard normal distribution is a special case of the normal distribution with a mean (μ) of 0 and a standard deviation (σ) of 1. It is symmetric, bell-shaped, and its probabilities are determined using the z-score, which measures how many standard deviations a value is from the mean.\n",
        "\n",
        "It is important because it serves as a reference for many statistical methods. By converting any normal distribution to the standard normal form (through z-score transformation), we can use standard probability tables to calculate probabilities, compare different datasets, and perform hypothesis testing."
      ],
      "metadata": {
        "id": "HtgTSvBpNkT0"
      }
    },
    {
      "cell_type": "markdown",
      "source": [
        " **6: What is the Central Limit Theorem (CLT), and why is it critical in statistics?**\n",
        "\n",
        "The Central Limit Theorem (CLT) states that when you take sufficiently large random samples from any population with a finite mean and variance, the distribution of the sample means will approach a normal distribution, regardless of the population’s original shape.\n",
        "\n",
        "It is critical in statistics because it justifies using normal probability models for inference, even when the population is not normally distributed. This allows statisticians to apply confidence intervals, hypothesis testing, and other methods reliably in real-world scenarios.\n"
      ],
      "metadata": {
        "id": "Roes3fTaN1dq"
      }
    },
    {
      "cell_type": "markdown",
      "source": [
        "**7: What is the significance of confidence intervals in statistical analysis?**\n",
        "\n",
        "A confidence interval provides a range of values within which a population parameter is likely to fall, based on sample data, along with an associated confidence level (e.g., 95%). It reflects the uncertainty inherent in using a sample to estimate a population value.\n",
        "\n",
        "The significance of confidence intervals is that they offer more information than a single point estimate, showing both the estimate and its margin of error. This helps in making informed decisions, assessing reliability, and understanding the precision of statistical results."
      ],
      "metadata": {
        "id": "jhrYjw26N_ZN"
      }
    },
    {
      "cell_type": "markdown",
      "source": [
        "**8: What is the concept of expected value in a probability distribution?**\n",
        "\n",
        "The expected value of a probability distribution is the long-run average or mean value you would expect if you repeated an experiment many times. It is calculated by multiplying each possible outcome by its probability and summing these products.\n",
        "\n",
        "In essence, the expected value represents the “center” of the distribution. For example, in rolling a fair six-sided die, the expected value is\n",
        "\n",
        "E(X)= (1+2+3+4+5+6)/6 =3.5\n",
        "\n",
        "meaning that over many rolls, the average outcome will approach 3.5"
      ],
      "metadata": {
        "id": "3SZNp0MWOH9n"
      }
    },
    {
      "cell_type": "code",
      "source": [
        "# 9. Write a Python program to generate 1000 random numbers from a normal\n",
        "# distribution with mean = 50 and standard deviation = 5. Compute its mean and standard\n",
        "# deviation using NumPy, and draw a histogram to visualize the distribution.\n",
        "\n",
        "import numpy as np\n",
        "import matplotlib.pyplot as plt\n",
        "\n",
        "size=1000\n",
        "m = 50\n",
        "SD = 5\n",
        "\n",
        "data = np.random.normal(m, SD, size)\n",
        "\n",
        "cal_mean = np.mean(data)\n",
        "cal_sd = np.std(data)\n",
        "\n",
        "print(f\"Calculated mean: {cal_mean:.2f}\")\n",
        "print(f\"Calculated std: {cal_sd:.2f}\")\n",
        "\n",
        "plt.hist(data, bins=30, edgecolor = \"black\", alpha = 0.7)\n",
        "plt.title(\"Normal Distribution Histogram\")\n",
        "plt.xlabel(\"Value\")\n",
        "plt.ylabel(\"Frequency\")\n",
        "plt.grid(axis='y', linestyle='--', alpha=0.7)\n",
        "plt.show()"
      ],
      "metadata": {
        "colab": {
          "base_uri": "https://localhost:8080/",
          "height": 508
        },
        "id": "zffYWQyMQPzI",
        "outputId": "88caba3e-ea78-475f-9ae1-5b35a3a62e67"
      },
      "execution_count": 3,
      "outputs": [
        {
          "output_type": "stream",
          "name": "stdout",
          "text": [
            "Calculated mean: 50.07\n",
            "Calculated std: 5.04\n"
          ]
        },
        {
          "output_type": "display_data",
          "data": {
            "text/plain": [
              "<Figure size 640x480 with 1 Axes>"
            ],
            "image/png": "[encoded data removed]"
          },
          "metadata": {}
        }
      ]
    },
    {
      "cell_type": "markdown",
      "source": [
        "10. : You are working as a data analyst for a retail company. The company has collected daily sales data for 2 years and wants you to identify the overall sales trend.\n",
        "daily_sales = [220, 245, 210, 265, 230, 250, 260, 275, 240, 255,235, 260, 245, 250, 225, 270, 265, 255, 250, 260]\n",
        "\n",
        "  ● Explain how you would apply the Central Limit Theorem to estimate the average sales with a 95% confidence interval.\n",
        "\n",
        "  **Solution:**\n",
        "\n",
        "   The Central Limit Theorem says that if we take repeated random samples from any population, the distribution of the sample means will approximate a normal distribution as the sample size grows, even if the underlying population is not normal.\n",
        "\n",
        "  Here, we can treat our 20 days of sales data as a sample from the population of all possible daily sales. Using CLT, we can:\n",
        "\n",
        "  1. Compute the sample mean (x) and sample standard deviation (s).\n",
        "\n",
        "  2. Estimate the standard error of the mean (SE):\n",
        "      \n",
        "      SE = 8/(n)^12\n",
        "  3. For a 95% confidence interval, use the t-distribution (since n is small and population σ is unknown)\n",
        "\n",
        "  4. This gives a range in which we are 95% confident that the true mean daily sales lie.\n",
        "\n"
      ],
      "metadata": {
        "id": "C-58FgoVRVwC"
      }
    },
    {
      "cell_type": "code",
      "source": [
        "# 10. : You are working as a data analyst for a retail company. The company has\n",
        "# collected daily sales data for 2 years and wants you to identify the overall sales trend.\n",
        "# daily_sales = [220, 245, 210, 265, 230, 250, 260, 275, 240, 255,235, 260, 245, 250, 225, 270, 265, 255, 250, 260]\n",
        "# ● Write the Python code to compute the mean sales and its confidence interval.\n",
        "import numpy as np\n",
        "import scipy.stats as stats\n",
        "\n",
        "daily_sales = [220, 245, 210, 265, 230, 250, 260, 275, 240, 255,235, 260, 245, 250, 225, 270, 265, 255, 250, 260]\n",
        "\n",
        "data = np.array(daily_sales)\n",
        "\n",
        "mean_sales = np.mean(data)\n",
        "std_sales = np.std(data, ddof=1)\n",
        "n = len(data)\n",
        "\n",
        "se = std_sales / np.sqrt(n)\n",
        "\n",
        "t_critical = stats.t.ppf(0.975, df=n-1)\n",
        "\n",
        "ci_lower = mean_sales - t_critical * se\n",
        "ci_upper = mean_sales + t_critical * se\n",
        "\n",
        "print(f\"Mean Sales: {mean_sales:.2f}\")\n",
        "print(f\"95% Confidence Interval: ({ci_lower:.2f}, {ci_upper:.2f})\")"
      ],
      "metadata": {
        "colab": {
          "base_uri": "https://localhost:8080/"
        },
        "id": "0u5SeQu1QYa8",
        "outputId": "40981ca7-a7c9-42c9-c711-4440d5c7e2ca"
      },
      "execution_count": 4,
      "outputs": [
        {
          "output_type": "stream",
          "name": "stdout",
          "text": [
            "Mean Sales: 248.25\n",
            "95% Confidence Interval: (240.17, 256.33)\n"
          ]
        }
      ]
    },
    {
      "cell_type": "code",
      "source": [],
      "metadata": {
        "id": "kTCFBqpMTCTK"
      },
      "execution_count": null,
      "outputs": []
    }
  ]
}